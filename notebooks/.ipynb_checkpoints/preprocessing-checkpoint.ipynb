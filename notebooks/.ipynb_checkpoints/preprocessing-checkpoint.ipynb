{
 "cells": [
  {
   "cell_type": "code",
   "execution_count": 5,
   "id": "aedc6c7e-86ca-4e2b-932f-f1237ca6ce6f",
   "metadata": {},
   "outputs": [
    {
     "name": "stdout",
     "output_type": "stream",
     "text": [
      "==================================================\n",
      "Step 1: Initial Dataset Loading\n",
      "==================================================\n",
      "Dataset Shape: (9551, 21)\n",
      "\n",
      "First 5 Rows of Raw Data:\n",
      " Restaurant ID        Restaurant Name  Country Code             City                                                                 Address                                   Locality                                             Locality Verbose  Longitude  Latitude                         Cuisines  Average Cost for two         Currency Has Table booking Has Online delivery Is delivering now Switch to order menu  Price range  Aggregate rating Rating color Rating text  Votes\n",
      "       6317637       Le Petit Souffle           162      Makati City Third Floor, Century City Mall, Kalayaan Avenue, Poblacion, Makati City  Century City Mall, Poblacion, Makati City       Century City Mall, Poblacion, Makati City, Makati City 121.027535 14.565443       French, Japanese, Desserts                  1100 Botswana Pula(P)               Yes                  No                No                   No            3               4.8   Dark Green   Excellent    314\n",
      "       6304287       Izakaya Kikufuji           162      Makati City     Little Tokyo, 2277 Chino Roces Avenue, Legaspi Village, Makati City Little Tokyo, Legaspi Village, Makati City      Little Tokyo, Legaspi Village, Makati City, Makati City 121.014101 14.553708                         Japanese                  1200 Botswana Pula(P)               Yes                  No                No                   No            3               4.5   Dark Green   Excellent    591\n",
      "       6300002 Heat - Edsa Shangri-La           162 Mandaluyong City                Edsa Shangri-La, 1 Garden Way, Ortigas, Mandaluyong City Edsa Shangri-La, Ortigas, Mandaluyong City Edsa Shangri-La, Ortigas, Mandaluyong City, Mandaluyong City 121.056831 14.581404 Seafood, Asian, Filipino, Indian                  4000 Botswana Pula(P)               Yes                  No                No                   No            4               4.4        Green   Very Good    270\n",
      "       6318506                   Ooma           162 Mandaluyong City  Third Floor, Mega Fashion Hall, SM Megamall, Ortigas, Mandaluyong City     SM Megamall, Ortigas, Mandaluyong City     SM Megamall, Ortigas, Mandaluyong City, Mandaluyong City 121.056475 14.585318                  Japanese, Sushi                  1500 Botswana Pula(P)                No                  No                No                   No            4               4.9   Dark Green   Excellent    365\n",
      "       6314302            Sambo Kojin           162 Mandaluyong City        Third Floor, Mega Atrium, SM Megamall, Ortigas, Mandaluyong City     SM Megamall, Ortigas, Mandaluyong City     SM Megamall, Ortigas, Mandaluyong City, Mandaluyong City 121.057508 14.584450                 Japanese, Korean                  1500 Botswana Pula(P)               Yes                  No                No                   No            4               4.8   Dark Green   Excellent    229\n",
      "==================================================\n"
     ]
    }
   ],
   "source": [
    "# Import Libraries and Load Dataset\n",
    "import pandas as pd\n",
    "import numpy as np\n",
    "\n",
    "# Load dataset\n",
    "df = pd.read_csv(r\"data/zomato.csv\", encoding=\"latin1\")\n",
    "data = df.copy()\n",
    "\n",
    "# Print formatted output\n",
    "print(\"=\" * 50)\n",
    "print(\"Step 1: Initial Dataset Loading\")\n",
    "print(\"=\" * 50)\n",
    "print(f\"Dataset Shape: {data.shape}\")\n",
    "print(\"\\nFirst 5 Rows of Raw Data:\")\n",
    "print(data.head().to_string(index=False))\n",
    "print(\"=\" * 50)\n",
    "\n"
   ]
  },
  {
   "cell_type": "code",
   "execution_count": 6,
   "id": "d0f66216-2adb-4d31-87c6-8cafad524ab6",
   "metadata": {},
   "outputs": [
    {
     "name": "stdout",
     "output_type": "stream",
     "text": [
      "==================================================\n",
      "Step 2: Dropping Duplicates and Irrelevant Columns\n",
      "==================================================\n",
      "New Dataset Shape: (9548, 9)\n",
      "Remaining Columns: ['Restaurant Name', 'City', 'Longitude', 'Latitude', 'Cuisines', 'Average Cost for two', 'Price range', 'Aggregate rating', 'Votes']\n",
      "\n",
      "First 5 Rows After Dropping:\n",
      "       Restaurant Name             City  Longitude  Latitude                         Cuisines  Average Cost for two  Price range  Aggregate rating  Votes\n",
      "      Le Petit Souffle      Makati City 121.027535 14.565443       French, Japanese, Desserts                  1100            3               4.8    314\n",
      "      Izakaya Kikufuji      Makati City 121.014101 14.553708                         Japanese                  1200            3               4.5    591\n",
      "Heat - Edsa Shangri-La Mandaluyong City 121.056831 14.581404 Seafood, Asian, Filipino, Indian                  4000            4               4.4    270\n",
      "                  Ooma Mandaluyong City 121.056475 14.585318                  Japanese, Sushi                  1500            4               4.9    365\n",
      "           Sambo Kojin Mandaluyong City 121.057508 14.584450                 Japanese, Korean                  1500            4               4.8    229\n",
      "==================================================\n"
     ]
    }
   ],
   "source": [
    "# Drop Duplicates and Irrelevant Columns\n",
    "irrelevant_columns = [\n",
    "    'Restaurant ID', 'Address', 'Locality Verbose', 'Switch to order menu',\n",
    "    'Country Code', 'Currency', 'Has Table booking', 'Has Online delivery',\n",
    "    'Is delivering now', 'Menu Item', 'Rating text', 'Rating color', 'Locality',\n",
    "    'Phone Numbers', 'Reservation'\n",
    "]\n",
    "data.drop(columns=irrelevant_columns, inplace=True, errors='ignore')\n",
    "data.drop_duplicates(inplace=True)\n",
    "\n",
    "# Print formatted output\n",
    "print(\"=\" * 50)\n",
    "print(\"Step 2: Dropping Duplicates and Irrelevant Columns\")\n",
    "print(\"=\" * 50)\n",
    "print(f\"New Dataset Shape: {data.shape}\")\n",
    "print(f\"Remaining Columns: {data.columns.tolist()}\")\n",
    "print(\"\\nFirst 5 Rows After Dropping:\")\n",
    "print(data.head().to_string(index=False))\n",
    "print(\"=\" * 50)"
   ]
  },
  {
   "cell_type": "code",
   "execution_count": null,
   "id": "6763462b-0a66-447a-94be-279e37b45341",
   "metadata": {},
   "outputs": [
    {
     "name": "stdout",
     "output_type": "stream",
     "text": [
      "==================================================\n",
      "Step 3: Handling Missing Values\n",
      "==================================================\n",
      "Dataset Shape After Handling Missing Values: (9539, 9)\n",
      "\n",
      "Missing Values Per Column:\n",
      "Restaurant Name         0\n",
      "City                    0\n",
      "Longitude               0\n",
      "Latitude                0\n",
      "Cuisines                0\n",
      "Average Cost for two    0\n",
      "Price range             0\n",
      "Aggregate rating        0\n",
      "Votes                   0\n",
      "\n",
      "First 5 Rows After Handling Missing Values:\n",
      "       Restaurant Name             City  Longitude  Latitude                         Cuisines  Average Cost for two  Price range  Aggregate rating  Votes\n",
      "      Le Petit Souffle      Makati City 121.027535 14.565443       French, Japanese, Desserts                  1100            3               4.8    314\n",
      "      Izakaya Kikufuji      Makati City 121.014101 14.553708                         Japanese                  1200            3               4.5    591\n",
      "Heat - Edsa Shangri-La Mandaluyong City 121.056831 14.581404 Seafood, Asian, Filipino, Indian                  4000            4               4.4    270\n",
      "                  Ooma Mandaluyong City 121.056475 14.585318                  Japanese, Sushi                  1500            4               4.9    365\n",
      "           Sambo Kojin Mandaluyong City 121.057508 14.584450                 Japanese, Korean                  1500            4               4.8    229\n",
      "==================================================\n"
     ]
    }
   ],
   "source": [
    "# Handle Missing Values\n",
    "essential_cols = ['Restaurant Name', 'Cuisines', 'City', 'Aggregate rating']\n",
    "data.dropna(subset=essential_cols, inplace=True)\n",
    "data['Votes'] = pd.to_numeric(data['Votes'], errors='coerce').fillna(0).astype(int)\n",
    "data['Latitude'] = pd.to_numeric(data['Latitude'], errors='coerce')\n",
    "data['Longitude'] = pd.to_numeric(data['Longitude'], errors='coerce')\n",
    "data.dropna(subset=['Latitude', 'Longitude'], inplace=True)\n",
    "\n",
    "# Print formatted output\n",
    "print(\"=\" * 50)\n",
    "print(\"Step 3: Handling Missing Values\")\n",
    "print(\"=\" * 50)\n",
    "print(f\"Dataset Shape After Handling Missing Values: {data.shape}\")\n",
    "print(\"\\nMissing Values Per Column:\")\n",
    "print(data.isnull().sum().to_string())\n",
    "print(\"\\nFirst 5 Rows After Handling Missing Values:\")\n",
    "print(data.head().to_string(index=False))\n",
    "print(\"=\" * 50)"
   ]
  },
  {
   "cell_type": "code",
   "execution_count": null,
   "id": "eefff798-ea1e-4703-8602-7571598e2eeb",
   "metadata": {},
   "outputs": [
    {
     "name": "stdout",
     "output_type": "stream",
     "text": [
      "==================================================\n",
      "Step 4: Normalizing Categorical Values\n",
      "==================================================\n",
      "Sample of Normalized Cuisines (First 10):\n",
      "['french, japanese, desserts', 'japanese', 'seafood, asian, filipino, indian', 'japanese, sushi', 'japanese, korean', 'chinese', 'asian, european', 'seafood, filipino, asian, european', 'european, asian, indian', 'filipino']\n",
      "\n",
      "Sample of Normalized Cities (First 10):\n",
      "['makati city', 'mandaluyong city', 'pasay city', 'pasig city', 'quezon city', 'san juan city', 'santa rosa', 'tagaytay city', 'taguig city', 'brasí_lia']\n",
      "\n",
      "First 5 Rows After Normalization:\n",
      "       Restaurant Name             City  Longitude  Latitude                         Cuisines  Average Cost for two  Price range  Aggregate rating  Votes\n",
      "      Le Petit Souffle      makati city 121.027535 14.565443       french, japanese, desserts                  1100            3               4.8    314\n",
      "      Izakaya Kikufuji      makati city 121.014101 14.553708                         japanese                  1200            3               4.5    591\n",
      "Heat - Edsa Shangri-La mandaluyong city 121.056831 14.581404 seafood, asian, filipino, indian                  4000            4               4.4    270\n",
      "                  Ooma mandaluyong city 121.056475 14.585318                  japanese, sushi                  1500            4               4.9    365\n",
      "           Sambo Kojin mandaluyong city 121.057508 14.584450                 japanese, korean                  1500            4               4.8    229\n",
      "==================================================\n"
     ]
    }
   ],
   "source": [
    "# Normalize Categorical Values\n",
    "data['Cuisines'] = data['Cuisines'].str.lower().str.strip()\n",
    "data['Cuisines'] = data['Cuisines'].replace({\n",
    "    'chinese': 'chinese', 'chinees': 'chinese',\n",
    "    'south indian': 'south indian', 'south-indian': 'south indian'\n",
    "})\n",
    "data['City'] = data['City'].str.lower().str.strip()\n",
    "\n",
    "# Print formatted output\n",
    "print(\"=\" * 50)\n",
    "print(\"Step 4: Normalizing Categorical Values\")\n",
    "print(\"=\" * 50)\n",
    "print(\"Sample of Normalized Cuisines (First 10):\")\n",
    "print(data['Cuisines'].unique()[:10].tolist())\n",
    "print(\"\\nSample of Normalized Cities (First 10):\")\n",
    "print(data['City'].unique()[:10].tolist())\n",
    "print(\"\\nFirst 5 Rows After Normalization:\")\n",
    "print(data.head().to_string(index=False))\n",
    "print(\"=\" * 50)"
   ]
  },
  {
   "cell_type": "code",
   "execution_count": null,
   "id": "adcbc818-1a81-4b4f-9b83-3784a32ef884",
   "metadata": {},
   "outputs": [
    {
     "name": "stdout",
     "output_type": "stream",
     "text": [
      "==================================================\n",
      "Step 5: Converting to Numerical Values\n",
      "==================================================\n",
      "Price Range Data Type: int64\n",
      "Aggregate Rating Data Type: float64\n",
      "\n",
      "First 5 Rows After Conversion:\n",
      "       Restaurant Name             City  Longitude  Latitude                         Cuisines  Average Cost for two  Price range  Aggregate rating  Votes\n",
      "      Le Petit Souffle      makati city 121.027535 14.565443       french, japanese, desserts                  1100            3               4.8    314\n",
      "      Izakaya Kikufuji      makati city 121.014101 14.553708                         japanese                  1200            3               4.5    591\n",
      "Heat - Edsa Shangri-La mandaluyong city 121.056831 14.581404 seafood, asian, filipino, indian                  4000            4               4.4    270\n",
      "                  Ooma mandaluyong city 121.056475 14.585318                  japanese, sushi                  1500            4               4.9    365\n",
      "           Sambo Kojin mandaluyong city 121.057508 14.584450                 japanese, korean                  1500            4               4.8    229\n",
      "==================================================\n"
     ]
    }
   ],
   "source": [
    "# Convert Price and Rating to Numerical\n",
    "data['Price range'] = pd.to_numeric(data['Price range'], errors='coerce')\n",
    "data['Aggregate rating'] = pd.to_numeric(data['Aggregate rating'], errors='coerce').fillna(0)\n",
    "\n",
    "# Print formatted output\n",
    "print(\"=\" * 50)\n",
    "print(\"Step 5: Converting to Numerical Values\")\n",
    "print(\"=\" * 50)\n",
    "print(f\"Price Range Data Type: {data['Price range'].dtype}\")\n",
    "print(f\"Aggregate Rating Data Type: {data['Aggregate rating'].dtype}\")\n",
    "print(\"\\nFirst 5 Rows After Conversion:\")\n",
    "print(data.head().to_string(index=False))\n",
    "print(\"=\" * 50)"
   ]
  },
  {
   "cell_type": "code",
   "execution_count": null,
   "id": "f656dd4e-ed4d-496b-9160-97c634cd73b3",
   "metadata": {},
   "outputs": [
    {
     "name": "stdout",
     "output_type": "stream",
     "text": [
      "==================================================\n",
      "Step 6: Feature Engineering\n",
      "==================================================\n",
      "Cost Category Distribution:\n",
      "Cost Category\n",
      "low       4435\n",
      "medium    3113\n",
      "high      1991\n",
      "\n",
      "Sample of Primary Cuisines (First 10):\n",
      "['french', 'japanese', 'seafood', 'chinese', 'asian', 'european', 'filipino', 'american', 'korean', 'cafe']\n",
      "\n",
      "Unique Rating Values:\n",
      "[4.8, 4.5, 4.4, 4.9, 4.0, 4.2, 4.3, 3.6, 4.7, 3.0, 3.8, 3.7, 3.2, 3.1, 1.0, 4.1, 3.3, 4.6, 3.9, 3.4, 3.5, 2.2, 2.9, 2.4, 2.6, 2.8, 2.1, 2.7, 2.5, 1.8, 2.0, 2.3, 1.9]\n",
      "\n",
      "First 5 Rows After Feature Engineering:\n",
      "       Restaurant Name             City  Longitude  Latitude                         Cuisines  Average Cost for two  Price range  Aggregate rating  Votes Cost Category Primary Cuisine  Rating\n",
      "      Le Petit Souffle      makati city 121.027535 14.565443       french, japanese, desserts                  1100            3               4.8    314          high          french     4.8\n",
      "      Izakaya Kikufuji      makati city 121.014101 14.553708                         japanese                  1200            3               4.5    591          high        japanese     4.5\n",
      "Heat - Edsa Shangri-La mandaluyong city 121.056831 14.581404 seafood, asian, filipino, indian                  4000            4               4.4    270          high         seafood     4.4\n",
      "                  Ooma mandaluyong city 121.056475 14.585318                  japanese, sushi                  1500            4               4.9    365          high        japanese     4.9\n",
      "           Sambo Kojin mandaluyong city 121.057508 14.584450                 japanese, korean                  1500            4               4.8    229          high        japanese     4.8\n",
      "==================================================\n"
     ]
    }
   ],
   "source": [
    "# Feature Engineering\n",
    "def categorize_cost(price):\n",
    "    if price == 1:\n",
    "        return 'low'\n",
    "    elif price == 2:\n",
    "        return 'medium'\n",
    "    else:\n",
    "        return 'high'\n",
    "\n",
    "data['Cost Category'] = data['Price range'].apply(categorize_cost)\n",
    "data['Primary Cuisine'] = data['Cuisines'].apply(lambda x: x.split(',')[0].strip() if pd.notnull(x) else x)\n",
    "data['Rating'] = data['Aggregate rating'].clip(lower=1.0, upper=5.0)\n",
    "data['Rating'] = data['Rating'].round(1)\n",
    "\n",
    "# Print formatted output\n",
    "print(\"=\" * 50)\n",
    "print(\"Step 6: Feature Engineering\")\n",
    "print(\"=\" * 50)\n",
    "print(\"Cost Category Distribution:\")\n",
    "print(data['Cost Category'].value_counts().to_string())\n",
    "print(\"\\nSample of Primary Cuisines (First 10):\")\n",
    "print(data['Primary Cuisine'].unique()[:10].tolist())\n",
    "print(\"\\nUnique Rating Values:\")\n",
    "print(data['Rating'].unique().tolist())\n",
    "print(\"\\nFirst 5 Rows After Feature Engineering:\")\n",
    "print(data.head().to_string(index=False))\n",
    "print(\"=\" * 50)"
   ]
  },
  {
   "cell_type": "code",
   "execution_count": 11,
   "id": "813a2b86-4c92-4ff2-a528-d0b5b797fde7",
   "metadata": {},
   "outputs": [],
   "source": [
    "#Rating Rounding: Adjust the rating normalization to round to the nearest 0.5 step to fully meet the requirement.\n",
    "data['Rating'] = (data['Aggregate rating'].clip(lower=1.0, upper=5.0) * 2).round() / 2"
   ]
  },
  {
   "cell_type": "code",
   "execution_count": 12,
   "id": "9c1f2714-1776-4f6f-ba5f-957b2f83b2df",
   "metadata": {},
   "outputs": [],
   "source": [
    "# Final Cleaned Dataset\n",
    "final_data = data[[\n",
    "    'Restaurant Name', 'City', 'Primary Cuisine', 'Cost Category',\n",
    "    'Rating', 'Votes', 'Latitude', 'Longitude'\n",
    "]].reset_index(drop=True)\n",
    "\n",
    "# Preview the final result\n",
    "final_data.head()\n",
    "final_data.to_csv(\"data/cleaned_zomato.csv\", index=False)\n"
   ]
  },
  {
   "cell_type": "code",
   "execution_count": null,
   "id": "36b69cd7-a95f-4dfe-aba7-7c037977e1ee",
   "metadata": {},
   "outputs": [],
   "source": []
  }
 ],
 "metadata": {
  "kernelspec": {
   "display_name": "Python 3",
   "language": "python",
   "name": "python3"
  },
  "language_info": {
   "codemirror_mode": {
    "name": "ipython",
    "version": 3
   },
   "file_extension": ".py",
   "mimetype": "text/x-python",
   "name": "python",
   "nbconvert_exporter": "python",
   "pygments_lexer": "ipython3",
   "version": "3.10.12"
  }
 },
 "nbformat": 4,
 "nbformat_minor": 5
}
